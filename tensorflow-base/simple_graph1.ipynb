{
 "cells": [
  {
   "cell_type": "code",
   "execution_count": 1,
   "metadata": {},
   "outputs": [],
   "source": [
    "import os\n",
    "import numpy as np\n",
    "\n",
    "import tensorflow as tf"
   ]
  },
  {
   "cell_type": "code",
   "execution_count": 2,
   "metadata": {},
   "outputs": [],
   "source": [
    "if not os.path.exists('summaries'):\n",
    "    os.mkdir('summaries')\n",
    "    \n",
    "if not os.path.exists(os.path.join('summaries','first')):\n",
    "    os.mkdir(os.path.join('summaries','first'))\n",
    "\n",
    "\n",
    "tf.reset_default_graph()\n",
    "\n",
    "a1 = tf.placeholder(tf.float32, None, name=\"a1\")\n",
    "# a2 = tf.placeholder(tf.float32, None, name=\"a2\")\n",
    "a2 = tf.constant(2, tf.float32, name=\"myconst\")\n",
    "\n",
    "ss = tf.add(a1, a2, name='ss')\n",
    "\n",
    "ss = tf.add(ss, a2, name='ss')\n",
    "\n",
    "with tf.name_scope('performance'):\n",
    "    # Summaries need to be displayed\n",
    "    # Whenever you need to record the loss, feed the mean loss to this placeholder\n",
    "    myit = tf.placeholder(tf.float32, shape=None, name='myit')\n",
    "    # Create a scalar summary object for the loss so it can be displayed\n",
    "    myit_summary = tf.summary.scalar('loss', myit)\n",
    "\n",
    "with tf.Session() as session:\n",
    "    summ_writer = tf.summary.FileWriter(os.path.join('summaries','first'), session.graph)\n",
    "\n",
    "    tf.global_variables_initializer().run()\n",
    "\n",
    "    for i in range(100):\n",
    "        res = session.run(ss, feed_dict={a1 : 3})\n",
    "        \n",
    "        summ = session.run(myit_summary, feed_dict={myit: res})\n",
    "\n",
    "        # Write the obtained summaries to the file, so it can be displayed in the TensorBoard\n",
    "        summ_writer.add_summary(summ, i)"
   ]
  },
  {
   "cell_type": "code",
   "execution_count": null,
   "metadata": {},
   "outputs": [],
   "source": []
  }
 ],
 "metadata": {
  "kernelspec": {
   "display_name": "Python 2",
   "language": "python",
   "name": "python2"
  },
  "language_info": {
   "codemirror_mode": {
    "name": "ipython",
    "version": 2
   },
   "file_extension": ".py",
   "mimetype": "text/x-python",
   "name": "python",
   "nbconvert_exporter": "python",
   "pygments_lexer": "ipython2",
   "version": "2.7.15"
  }
 },
 "nbformat": 4,
 "nbformat_minor": 2
}
