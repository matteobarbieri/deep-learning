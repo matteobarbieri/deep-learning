{
 "cells": [
  {
   "cell_type": "markdown",
   "metadata": {},
   "source": [
    "Tutorial from: https://medium.com/emergent-future/simple-reinforcement-learning-with-tensorflow-part-0-q-learning-with-tables-and-neural-networks-d195264329d0"
   ]
  },
  {
   "cell_type": "markdown",
   "metadata": {},
   "source": [
    "# Reinforced Learning tutorial"
   ]
  },
  {
   "cell_type": "markdown",
   "metadata": {},
   "source": [
    "## Q-Table Learning"
   ]
  },
  {
   "cell_type": "code",
   "execution_count": 2,
   "metadata": {},
   "outputs": [],
   "source": [
    "import gym\n",
    "import numpy as np"
   ]
  },
  {
   "cell_type": "code",
   "execution_count": 4,
   "metadata": {},
   "outputs": [
    {
     "name": "stderr",
     "output_type": "stream",
     "text": [
      "/home/matteo/repo/gym/gym/__init__.py:22: UserWarning: DEPRECATION WARNING: to improve load times, gym no longer automatically loads gym.spaces. Please run \"import gym.spaces\" to load gym.spaces on your own. This warning will turn into an error in a future version of gym.\n",
      "  warnings.warn('DEPRECATION WARNING: to improve load times, gym no longer automatically loads gym.spaces. Please run \"import gym.spaces\" to load gym.spaces on your own. This warning will turn into an error in a future version of gym.')\n"
     ]
    }
   ],
   "source": [
    "env = gym.make('FrozenLake-v0')"
   ]
  },
  {
   "cell_type": "code",
   "execution_count": 7,
   "metadata": {},
   "outputs": [
    {
     "name": "stdout",
     "output_type": "stream",
     "text": [
      "\n",
      "\u001b[41mS\u001b[0mFFF\n",
      "FHFH\n",
      "FFFH\n",
      "HFFG\n"
     ]
    }
   ],
   "source": [
    "env.render()"
   ]
  },
  {
   "cell_type": "markdown",
   "metadata": {},
   "source": [
    "Implement Q-Table learning algorithm"
   ]
  },
  {
   "cell_type": "code",
   "execution_count": 8,
   "metadata": {},
   "outputs": [],
   "source": [
    "# Initialize table with all zeros\n",
    "# The table has NS x NA where NS is the number of possible states, NA the number of possible actions\n",
    "# Element i, j represents the reward for the jth action taken at the ith states\n",
    "# The number of states, in this specific example, is given by all possible positions in the lake, that is 4x4 = 16\n",
    "Q = np.zeros((env.observation_space.n, env.action_space.n))"
   ]
  },
  {
   "cell_type": "code",
   "execution_count": 10,
   "metadata": {},
   "outputs": [],
   "source": [
    "# Set learning parameters\n",
    "lr = 0.8 # learning rate\n",
    "y = 0.95 # discount factor for future possible rewards\n",
    "\n",
    "# Number of FULL RUNS of the game\n",
    "num_episodes = 2000"
   ]
  },
  {
   "cell_type": "code",
   "execution_count": 16,
   "metadata": {},
   "outputs": [],
   "source": [
    "# Create list to contain total rewards and steps per episode\n",
    "rList = list()"
   ]
  },
  {
   "cell_type": "code",
   "execution_count": 17,
   "metadata": {},
   "outputs": [],
   "source": [
    "for i in range(num_episodes):\n",
    "    \n",
    "    # Initialization\n",
    "    s = env.reset() # reset the game. s is the state (in this case, the initial one)\n",
    "    rAll = 0\n",
    "    d = False\n",
    "    j = 0\n",
    "    \n",
    "    # The Q-Table learning algorithm\n",
    "    while j < 99:\n",
    "        j += 1\n",
    "        \n",
    "        # Choose an action by greedily (with noise) picking from Q table \n",
    "        a = np.argmax(Q[s, :] + np.random.randn(1, env.action_space.n)*(1.0/(i+1)))\n",
    "        \n",
    "        # Get new state and reward from environment\n",
    "        s1, r, d, _ = env.step(a)\n",
    "        \n",
    "        # Update Q-table\n",
    "        Q[s, a] = Q[s, a] + lr * (r + y*np.max(Q[s1, :]) - Q[s, a])\n",
    "        \n",
    "        rAll += r\n",
    "        s = s1\n",
    "        \n",
    "        if d == True:\n",
    "            break;\n",
    "            \n",
    "    rList.append(rAll)"
   ]
  },
  {
   "cell_type": "code",
   "execution_count": 18,
   "metadata": {},
   "outputs": [
    {
     "name": "stdout",
     "output_type": "stream",
     "text": [
      "Score over time: 0.5555\n"
     ]
    }
   ],
   "source": [
    "print(\"Score over time: \" +  str(sum(rList)/num_episodes))"
   ]
  },
  {
   "cell_type": "code",
   "execution_count": 19,
   "metadata": {},
   "outputs": [
    {
     "name": "stdout",
     "output_type": "stream",
     "text": [
      "Final Q-Table values:\n",
      "[[5.63268372e-03 3.64510085e-03 2.02619665e-01 3.73829262e-03]\n",
      " [1.68449911e-04 1.19712932e-03 3.49793031e-03 1.01781600e-01]\n",
      " [1.19090346e-03 1.52830655e-03 1.03781887e-03 4.52994473e-02]\n",
      " [7.40634408e-04 6.21576544e-04 3.29059242e-04 3.45818983e-02]\n",
      " [3.65596727e-01 6.87201221e-04 7.00902279e-04 3.10110101e-03]\n",
      " [0.00000000e+00 0.00000000e+00 0.00000000e+00 0.00000000e+00]\n",
      " [6.98519779e-02 1.75029707e-06 4.85218564e-05 2.53041929e-05]\n",
      " [0.00000000e+00 0.00000000e+00 0.00000000e+00 0.00000000e+00]\n",
      " [3.31988999e-03 1.45406152e-03 2.93965118e-04 2.60922349e-01]\n",
      " [7.48278331e-04 6.37288518e-01 1.45423626e-03 3.12537899e-04]\n",
      " [9.13279285e-01 3.33543133e-04 1.18214033e-03 6.68039655e-04]\n",
      " [0.00000000e+00 0.00000000e+00 0.00000000e+00 0.00000000e+00]\n",
      " [0.00000000e+00 0.00000000e+00 0.00000000e+00 0.00000000e+00]\n",
      " [0.00000000e+00 0.00000000e+00 6.08815563e-01 0.00000000e+00]\n",
      " [0.00000000e+00 9.99414440e-01 0.00000000e+00 0.00000000e+00]\n",
      " [0.00000000e+00 0.00000000e+00 0.00000000e+00 0.00000000e+00]]\n"
     ]
    }
   ],
   "source": [
    "print(\"Final Q-Table values:\")\n",
    "print(Q)"
   ]
  },
  {
   "cell_type": "code",
   "execution_count": 21,
   "metadata": {},
   "outputs": [
    {
     "name": "stdout",
     "output_type": "stream",
     "text": [
      "Loading...3\n"
     ]
    }
   ],
   "source": [
    "import sys\n",
    "import time\n",
    "\n",
    "a = 0  \n",
    "for x in range (0,3):  \n",
    "    a = a + 1  \n",
    "    b = (\"Loading\" + \".\" * a)\n",
    "    # \\r prints a carriage return first, so `b` is printed on top of the previous line.\n",
    "    sys.stdout.write('\\r'+b)\n",
    "    time.sleep(0.5)\n",
    "print (a)"
   ]
  },
  {
   "cell_type": "code",
   "execution_count": null,
   "metadata": {},
   "outputs": [],
   "source": []
  }
 ],
 "metadata": {
  "kernelspec": {
   "display_name": "Python 2",
   "language": "python",
   "name": "python2"
  },
  "language_info": {
   "codemirror_mode": {
    "name": "ipython",
    "version": 2
   },
   "file_extension": ".py",
   "mimetype": "text/x-python",
   "name": "python",
   "nbconvert_exporter": "python",
   "pygments_lexer": "ipython2",
   "version": "2.7.15"
  }
 },
 "nbformat": 4,
 "nbformat_minor": 2
}
