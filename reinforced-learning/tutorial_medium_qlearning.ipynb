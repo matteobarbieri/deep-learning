{
 "cells": [
  {
   "cell_type": "markdown",
   "metadata": {},
   "source": [
    "Tutorial from: https://medium.com/emergent-future/simple-reinforcement-learning-with-tensorflow-part-0-q-learning-with-tables-and-neural-networks-d195264329d0"
   ]
  },
  {
   "cell_type": "markdown",
   "metadata": {},
   "source": [
    "# Reinforced Learning tutorial"
   ]
  },
  {
   "cell_type": "markdown",
   "metadata": {},
   "source": [
    "## Q-Table Learning"
   ]
  },
  {
   "cell_type": "code",
   "execution_count": 1,
   "metadata": {},
   "outputs": [],
   "source": [
    "import gym\n",
    "import numpy as np"
   ]
  },
  {
   "cell_type": "code",
   "execution_count": 148,
   "metadata": {},
   "outputs": [],
   "source": [
    "import time"
   ]
  },
  {
   "cell_type": "code",
   "execution_count": 2,
   "metadata": {},
   "outputs": [
    {
     "name": "stderr",
     "output_type": "stream",
     "text": [
      "/home/matteo/repo/gym/gym/__init__.py:22: UserWarning: DEPRECATION WARNING: to improve load times, gym no longer automatically loads gym.spaces. Please run \"import gym.spaces\" to load gym.spaces on your own. This warning will turn into an error in a future version of gym.\n",
      "  warnings.warn('DEPRECATION WARNING: to improve load times, gym no longer automatically loads gym.spaces. Please run \"import gym.spaces\" to load gym.spaces on your own. This warning will turn into an error in a future version of gym.')\n"
     ]
    }
   ],
   "source": [
    "env = gym.make('FrozenLake-v0')"
   ]
  },
  {
   "cell_type": "code",
   "execution_count": 141,
   "metadata": {},
   "outputs": [
    {
     "name": "stdout",
     "output_type": "stream",
     "text": [
      "  (Down)\n",
      "SFFF\n",
      "FHFH\n",
      "FFFH\n",
      "HFF\u001b[41mG\u001b[0m\n"
     ]
    }
   ],
   "source": [
    "env.render()"
   ]
  },
  {
   "cell_type": "code",
   "execution_count": 124,
   "metadata": {},
   "outputs": [],
   "source": [
    "dirtoa = {\n",
    "    'L' : 0,\n",
    "    'D' : 1,\n",
    "    'R' : 2,\n",
    "    'U' : 3\n",
    "}"
   ]
  },
  {
   "cell_type": "code",
   "execution_count": 154,
   "metadata": {},
   "outputs": [
    {
     "name": "stdout",
     "output_type": "stream",
     "text": [
      "Myaction = (0, 0.0, False, {'prob': 0.3333333333333333})\n",
      "  (Up)\n",
      "\u001b[41mS\u001b[0mFFF\n",
      "FHFH\n",
      "FFFH\n",
      "HFFG\n",
      "Myaction = (0, 0.0, False, {'prob': 0.3333333333333333})\n",
      "  (Up)\n",
      "\u001b[41mS\u001b[0mFFF\n",
      "FHFH\n",
      "FFFH\n",
      "HFFG\n",
      "Myaction = (0, 0.0, False, {'prob': 0.3333333333333333})\n",
      "  (Up)\n",
      "\u001b[41mS\u001b[0mFFF\n",
      "FHFH\n",
      "FFFH\n",
      "HFFG\n",
      "Myaction = (0, 0.0, False, {'prob': 0.3333333333333333})\n",
      "  (Up)\n",
      "\u001b[41mS\u001b[0mFFF\n",
      "FHFH\n",
      "FFFH\n",
      "HFFG\n",
      "Myaction = (0, 0.0, False, {'prob': 0.3333333333333333})\n",
      "  (Up)\n",
      "\u001b[41mS\u001b[0mFFF\n",
      "FHFH\n",
      "FFFH\n",
      "HFFG\n",
      "Myaction = (0, 0.0, False, {'prob': 0.3333333333333333})\n",
      "  (Up)\n",
      "\u001b[41mS\u001b[0mFFF\n",
      "FHFH\n",
      "FFFH\n",
      "HFFG\n",
      "Myaction = (0, 0.0, False, {'prob': 0.3333333333333333})\n",
      "  (Up)\n",
      "\u001b[41mS\u001b[0mFFF\n",
      "FHFH\n",
      "FFFH\n",
      "HFFG\n",
      "Myaction = (1, 0.0, False, {'prob': 0.3333333333333333})\n",
      "  (Up)\n",
      "S\u001b[41mF\u001b[0mFF\n",
      "FHFH\n",
      "FFFH\n",
      "HFFG\n",
      "Myaction = (1, 0.0, False, {'prob': 0.3333333333333333})\n",
      "  (Up)\n",
      "S\u001b[41mF\u001b[0mFF\n",
      "FHFH\n",
      "FFFH\n",
      "HFFG\n",
      "Myaction = (0, 0.0, False, {'prob': 0.3333333333333333})\n",
      "  (Up)\n",
      "\u001b[41mS\u001b[0mFFF\n",
      "FHFH\n",
      "FFFH\n",
      "HFFG\n"
     ]
    }
   ],
   "source": [
    "env.reset()\n",
    "\n",
    "for i in range(10):\n",
    "    mya = env.step(dirtoa['U'])\n",
    "    print(\"Myaction = {}\".format(mya))\n",
    "    env.render()\n",
    "    time.sleep(1)"
   ]
  },
  {
   "cell_type": "markdown",
   "metadata": {},
   "source": [
    "Implement Q-Table learning algorithm"
   ]
  },
  {
   "cell_type": "code",
   "execution_count": 142,
   "metadata": {},
   "outputs": [],
   "source": [
    "# Initialize table with all zeros\n",
    "# The table has NS x NA where NS is the number of possible states, NA the number of possible actions\n",
    "# Element i, j represents the reward for the jth action taken at the ith states\n",
    "# The number of states, in this specific example, is given by all possible positions in the lake, that is 4x4 = 16\n",
    "Q = np.zeros((env.observation_space.n, env.action_space.n))"
   ]
  },
  {
   "cell_type": "code",
   "execution_count": 143,
   "metadata": {},
   "outputs": [],
   "source": [
    "# Set learning parameters\n",
    "lr = 0.8 # learning rate\n",
    "y = 0.95 # discount factor for future possible rewards\n",
    "\n",
    "# Number of FULL RUNS of the game\n",
    "num_episodes = 4000"
   ]
  },
  {
   "cell_type": "code",
   "execution_count": 144,
   "metadata": {},
   "outputs": [],
   "source": [
    "# Create list to contain total rewards and steps per episode\n",
    "rList = list()"
   ]
  },
  {
   "cell_type": "code",
   "execution_count": 145,
   "metadata": {},
   "outputs": [],
   "source": [
    "for i in range(num_episodes):\n",
    "    \n",
    "    # Initialization\n",
    "    s = env.reset() # reset the game. s is the state (in this case, the initial one)\n",
    "    rAll = 0\n",
    "    d = False\n",
    "    j = 0\n",
    "    \n",
    "    # The Q-Table learning algorithm\n",
    "    while j < 99:\n",
    "        j += 1\n",
    "        \n",
    "        # Choose an action by greedily (with noise) picking from Q table \n",
    "        a = np.argmax(Q[s, :] + np.random.randn(1, env.action_space.n)*(1.0/(i+1)))\n",
    "        \n",
    "        # Get new state and reward from environment\n",
    "        s1, r, d, _ = env.step(a)\n",
    "        \n",
    "        # Update Q-table\n",
    "        Q[s, a] = Q[s, a] + lr * (r + y*np.max(Q[s1, :]) - Q[s, a])\n",
    "        \n",
    "        rAll += r\n",
    "        s = s1\n",
    "        \n",
    "        if d == True:\n",
    "            break;\n",
    "            \n",
    "    rList.append(rAll)"
   ]
  },
  {
   "cell_type": "code",
   "execution_count": 146,
   "metadata": {},
   "outputs": [
    {
     "name": "stdout",
     "output_type": "stream",
     "text": [
      "Score over time: 0.456\n"
     ]
    }
   ],
   "source": [
    "print(\"Score over time: \" +  str(sum(rList)/num_episodes))"
   ]
  },
  {
   "cell_type": "code",
   "execution_count": 147,
   "metadata": {},
   "outputs": [
    {
     "name": "stdout",
     "output_type": "stream",
     "text": [
      "Final Q-Table values:\n",
      "[[1.61130093e-01 4.50551482e-03 3.35418186e-03 3.45867371e-03]\n",
      " [9.86883287e-04 5.27369504e-04 1.85740921e-04 1.35085089e-01]\n",
      " [8.16692986e-04 9.12348597e-02 1.42453350e-03 2.41829185e-03]\n",
      " [5.83557003e-04 6.17233350e-04 8.65371811e-05 9.14263379e-02]\n",
      " [1.24256999e-01 6.23412153e-05 2.41307169e-05 1.91040159e-04]\n",
      " [0.00000000e+00 0.00000000e+00 0.00000000e+00 0.00000000e+00]\n",
      " [3.38561727e-05 7.59736614e-05 6.81520695e-06 1.78343990e-02]\n",
      " [0.00000000e+00 0.00000000e+00 0.00000000e+00 0.00000000e+00]\n",
      " [5.71562287e-04 8.72928591e-04 7.44105902e-04 1.65038957e-01]\n",
      " [1.17901955e-03 2.12356283e-01 3.03852124e-04 8.54078130e-05]\n",
      " [2.62278593e-02 1.00406515e-04 0.00000000e+00 0.00000000e+00]\n",
      " [0.00000000e+00 0.00000000e+00 0.00000000e+00 0.00000000e+00]\n",
      " [0.00000000e+00 0.00000000e+00 0.00000000e+00 0.00000000e+00]\n",
      " [0.00000000e+00 5.53308126e-04 3.19527889e-01 1.09849299e-03]\n",
      " [0.00000000e+00 0.00000000e+00 0.00000000e+00 1.23711456e-01]\n",
      " [0.00000000e+00 0.00000000e+00 0.00000000e+00 0.00000000e+00]]\n"
     ]
    }
   ],
   "source": [
    "print(\"Final Q-Table values:\")\n",
    "print(Q)"
   ]
  },
  {
   "cell_type": "code",
   "execution_count": 21,
   "metadata": {},
   "outputs": [
    {
     "name": "stdout",
     "output_type": "stream",
     "text": [
      "Loading...3\n"
     ]
    }
   ],
   "source": [
    "import sys\n",
    "import time\n",
    "\n",
    "a = 0  \n",
    "for x in range (0,3):  \n",
    "    a = a + 1  \n",
    "    b = (\"Loading\" + \".\" * a)\n",
    "    # \\r prints a carriage return first, so `b` is printed on top of the previous line.\n",
    "    sys.stdout.write('\\r'+b)\n",
    "    time.sleep(0.5)\n",
    "print (a)"
   ]
  },
  {
   "cell_type": "code",
   "execution_count": null,
   "metadata": {},
   "outputs": [],
   "source": []
  }
 ],
 "metadata": {
  "kernelspec": {
   "display_name": "Python 2",
   "language": "python",
   "name": "python2"
  },
  "language_info": {
   "codemirror_mode": {
    "name": "ipython",
    "version": 2
   },
   "file_extension": ".py",
   "mimetype": "text/x-python",
   "name": "python",
   "nbconvert_exporter": "python",
   "pygments_lexer": "ipython2",
   "version": "2.7.15"
  }
 },
 "nbformat": 4,
 "nbformat_minor": 2
}
