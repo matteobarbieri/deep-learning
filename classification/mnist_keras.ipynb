{
 "cells": [
  {
   "cell_type": "markdown",
   "metadata": {},
   "source": [
    "# MNIST dataset"
   ]
  },
  {
   "cell_type": "code",
   "execution_count": 8,
   "metadata": {},
   "outputs": [],
   "source": [
    "from __future__ import division"
   ]
  },
  {
   "cell_type": "code",
   "execution_count": 28,
   "metadata": {},
   "outputs": [],
   "source": [
    "import numpy as np"
   ]
  },
  {
   "cell_type": "code",
   "execution_count": 16,
   "metadata": {},
   "outputs": [],
   "source": [
    "import keras"
   ]
  },
  {
   "cell_type": "code",
   "execution_count": 10,
   "metadata": {},
   "outputs": [],
   "source": [
    "from keras.models import Sequential"
   ]
  },
  {
   "cell_type": "code",
   "execution_count": 15,
   "metadata": {},
   "outputs": [],
   "source": [
    "from keras.layers import Conv2D, MaxPool2D, Dropout, Dense, Flatten"
   ]
  },
  {
   "cell_type": "markdown",
   "metadata": {},
   "source": [
    "### Dataset loading"
   ]
  },
  {
   "cell_type": "code",
   "execution_count": 1,
   "metadata": {},
   "outputs": [],
   "source": [
    "from keras.datasets import mnist"
   ]
  },
  {
   "cell_type": "code",
   "execution_count": 53,
   "metadata": {},
   "outputs": [],
   "source": [
    "(x_train, y_train), (x_test, y_test) = mnist.load_data()\n",
    "\n",
    "x_train = x_train[:,:,:,np.newaxis]\n",
    "x_test = x_test[:,:,:,np.newaxis]"
   ]
  },
  {
   "cell_type": "code",
   "execution_count": 54,
   "metadata": {},
   "outputs": [],
   "source": [
    "# To categorical \n",
    "\n",
    "y_train = keras.utils.to_categorical(y_train, 10)\n",
    "y_test = keras.utils.to_categorical(y_test, 10)"
   ]
  },
  {
   "cell_type": "markdown",
   "metadata": {},
   "source": [
    "### Sample visualization"
   ]
  },
  {
   "cell_type": "code",
   "execution_count": 32,
   "metadata": {},
   "outputs": [],
   "source": [
    "import matplotlib.pyplot as plt"
   ]
  },
  {
   "cell_type": "code",
   "execution_count": 35,
   "metadata": {},
   "outputs": [
    {
     "data": {
      "image/png": "[encoded data removed]",
      "text/plain": [
       "<Figure size 432x288 with 1 Axes>"
      ]
     },
     "metadata": {},
     "output_type": "display_data"
    }
   ],
   "source": [
    "sample_index = 2\n",
    "\n",
    "pixels = x_train[sample_index]\n",
    "label = y_train[sample_index]\n",
    "\n",
    "plt.title('Label is {label}'.format(label=label))\n",
    "plt.imshow(pixels[:,:,0], cmap='gray')\n",
    "plt.show()"
   ]
  },
  {
   "cell_type": "markdown",
   "metadata": {},
   "source": [
    "### Define network architecture"
   ]
  },
  {
   "cell_type": "code",
   "execution_count": 34,
   "metadata": {},
   "outputs": [],
   "source": [
    "model = Sequential()\n",
    "\n",
    "# Two conv2d (32) + maxpool + dropout\n",
    "model.add(Conv2D(32, (3, 3), padding='same', input_shape=x_train.shape[1:], activation='relu'))\n",
    "model.add(Conv2D(32, (3, 3), padding='same', activation='relu'))\n",
    "model.add(MaxPool2D(pool_size=(2,2)))\n",
    "model.add(Dropout(0.25))\n",
    "# Output size = 14 x 14 x 32\n",
    "\n",
    "# Two conv2d (32) + maxpool + dropout\n",
    "model.add(Conv2D(64, (3, 3), padding='same', activation='relu'))\n",
    "model.add(Conv2D(64, (3, 3), padding='same', activation='relu'))\n",
    "model.add(MaxPool2D(pool_size=(2,2)))\n",
    "model.add(Dropout(0.25))\n",
    "# Output size = 7 x 7 x 64\n",
    "\n",
    "# Flatten\n",
    "model.add(Flatten())\n",
    "\n",
    "# First FC layer\n",
    "model.add(Dense(512, activation='relu'))\n",
    "model.add(Dropout(0.4))\n",
    "\n",
    "# Output layer\n",
    "model.add(Dense(10, activation='softmax'))\n",
    "\n",
    "# initiate Adam optimizer\n",
    "opt = keras.optimizers.Adam(lr=0.0001, decay=1e-6)\n",
    "\n",
    "# Let's train the model using RMSprop\n",
    "model.compile(\n",
    "    loss='categorical_crossentropy',\n",
    "    optimizer=opt,\n",
    "    metrics=['accuracy']\n",
    ")"
   ]
  },
  {
   "cell_type": "markdown",
   "metadata": {},
   "source": [
    "### Train model"
   ]
  },
  {
   "cell_type": "code",
   "execution_count": 55,
   "metadata": {},
   "outputs": [],
   "source": [
    "# Various hyperparameters\n",
    "batch_size = 128\n",
    "epochs = 20"
   ]
  },
  {
   "cell_type": "code",
   "execution_count": 56,
   "metadata": {},
   "outputs": [
    {
     "name": "stdout",
     "output_type": "stream",
     "text": [
      "WARNING:tensorflow:Variable *= will be deprecated. Use variable.assign_mul if you want assignment to the variable value or 'x = x * y' if you want a new python Tensor object.\n",
      "Train on 60000 samples, validate on 10000 samples\n",
      "Epoch 1/20\n",
      "60000/60000 [==============================] - 31s 515us/step - loss: 1.4474 - acc: 0.7684 - val_loss: 0.1164 - val_acc: 0.9649\n",
      "Epoch 2/20\n",
      "60000/60000 [==============================] - 28s 459us/step - loss: 0.2010 - acc: 0.9376 - val_loss: 0.0623 - val_acc: 0.9795\n",
      "Epoch 3/20\n",
      "60000/60000 [==============================] - 29s 487us/step - loss: 0.1283 - acc: 0.9603 - val_loss: 0.0449 - val_acc: 0.9844\n",
      "Epoch 4/20\n",
      "60000/60000 [==============================] - 28s 465us/step - loss: 0.0968 - acc: 0.9696 - val_loss: 0.0369 - val_acc: 0.9881\n",
      "Epoch 5/20\n",
      "60000/60000 [==============================] - 29s 481us/step - loss: 0.0816 - acc: 0.9743 - val_loss: 0.0338 - val_acc: 0.9889\n",
      "Epoch 6/20\n",
      "60000/60000 [==============================] - 29s 484us/step - loss: 0.0672 - acc: 0.9788 - val_loss: 0.0293 - val_acc: 0.9892\n",
      "Epoch 7/20\n",
      "60000/60000 [==============================] - 26s 439us/step - loss: 0.0588 - acc: 0.9814 - val_loss: 0.0242 - val_acc: 0.9920\n",
      "Epoch 8/20\n",
      "60000/60000 [==============================] - 23s 381us/step - loss: 0.0530 - acc: 0.9830 - val_loss: 0.0238 - val_acc: 0.9923\n",
      "Epoch 9/20\n",
      "60000/60000 [==============================] - 26s 439us/step - loss: 0.0463 - acc: 0.9854 - val_loss: 0.0229 - val_acc: 0.9920\n",
      "Epoch 10/20\n",
      "60000/60000 [==============================] - 29s 482us/step - loss: 0.0415 - acc: 0.9866 - val_loss: 0.0208 - val_acc: 0.9919\n",
      "Epoch 11/20\n",
      "60000/60000 [==============================] - 28s 468us/step - loss: 0.0359 - acc: 0.9883 - val_loss: 0.0202 - val_acc: 0.9931\n",
      "Epoch 12/20\n",
      "60000/60000 [==============================] - 28s 469us/step - loss: 0.0352 - acc: 0.9886 - val_loss: 0.0188 - val_acc: 0.9941\n",
      "Epoch 13/20\n",
      "60000/60000 [==============================] - 29s 482us/step - loss: 0.0314 - acc: 0.9901 - val_loss: 0.0205 - val_acc: 0.9931\n",
      "Epoch 14/20\n",
      "60000/60000 [==============================] - 27s 456us/step - loss: 0.0282 - acc: 0.9906 - val_loss: 0.0192 - val_acc: 0.9941\n",
      "Epoch 15/20\n",
      "60000/60000 [==============================] - 28s 465us/step - loss: 0.0268 - acc: 0.9914 - val_loss: 0.0204 - val_acc: 0.9936\n",
      "Epoch 16/20\n",
      "60000/60000 [==============================] - 29s 487us/step - loss: 0.0251 - acc: 0.9920 - val_loss: 0.0186 - val_acc: 0.9932\n",
      "Epoch 17/20\n",
      "60000/60000 [==============================] - 27s 457us/step - loss: 0.0217 - acc: 0.9924 - val_loss: 0.0193 - val_acc: 0.9938\n",
      "Epoch 18/20\n",
      "60000/60000 [==============================] - 28s 464us/step - loss: 0.0208 - acc: 0.9930 - val_loss: 0.0181 - val_acc: 0.9945\n",
      "Epoch 19/20\n",
      "60000/60000 [==============================] - 29s 481us/step - loss: 0.0198 - acc: 0.9934 - val_loss: 0.0173 - val_acc: 0.9944\n",
      "Epoch 20/20\n",
      "60000/60000 [==============================] - 27s 443us/step - loss: 0.0167 - acc: 0.9946 - val_loss: 0.0174 - val_acc: 0.9945\n"
     ]
    },
    {
     "data": {
      "text/plain": [
       "<keras.callbacks.History at 0x7f4f20383b50>"
      ]
     },
     "execution_count": 56,
     "metadata": {},
     "output_type": "execute_result"
    }
   ],
   "source": [
    "model.fit(\n",
    "    x_train, y_train,\n",
    "    batch_size=batch_size,\n",
    "    epochs=epochs,\n",
    "    validation_data=(x_test, y_test),\n",
    "    shuffle=True\n",
    ")"
   ]
  },
  {
   "cell_type": "code",
   "execution_count": null,
   "metadata": {},
   "outputs": [],
   "source": []
  }
 ],
 "metadata": {
  "kernelspec": {
   "display_name": "Python 2",
   "language": "python",
   "name": "python2"
  },
  "language_info": {
   "codemirror_mode": {
    "name": "ipython",
    "version": 2
   },
   "file_extension": ".py",
   "mimetype": "text/x-python",
   "name": "python",
   "nbconvert_exporter": "python",
   "pygments_lexer": "ipython2",
   "version": "2.7.15"
  }
 },
 "nbformat": 4,
 "nbformat_minor": 2
}
